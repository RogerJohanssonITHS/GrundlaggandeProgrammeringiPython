{
 "cells": [
  {
   "cell_type": "markdown",
   "metadata": {},
   "source": [
    "## Här lämnar du dina svar till Del 2 Uppgift 1-3."
   ]
  },
  {
   "cell_type": "markdown",
   "metadata": {},
   "source": [
    "## Del 2. Uppgift 1"
   ]
  },
  {
   "cell_type": "markdown",
   "metadata": {},
   "source": [
    "### Uppgift 1a. (2p)\n",
    "Skriv din lösning för uppgift 1a i nedanstående cell."
   ]
  },
  {
   "cell_type": "code",
   "execution_count": 1,
   "metadata": {},
   "outputs": [
    {
     "name": "stdout",
     "output_type": "stream",
     "text": [
      "Ange kostnaden för måltiden i kronor:300\n",
      "Moms är 36.00 kr.\n",
      "Dricksen är 30.00 kr.\n",
      "Totalt belopp att betala: 366.00 kr.\n"
     ]
    }
   ],
   "source": [
    "#1a) Skriv ditt program här. Glöm inte kommentarer.\n",
    "\n",
    "# Läs in kostnaden för måltiden\n",
    "måltidsKostnad = float(input(\"Ange kostnaden för måltiden i kronor:\"))\n",
    "\n",
    "# Skriv ut momsen\n",
    "print(f\"Moms är {måltidsKostnad * 0.12:.2f} kr.\")\n",
    "\n",
    "# Skriv ut dricksen\n",
    "print(f\"Dricksen är {måltidsKostnad * 0.10:.2f} kr.\")\n",
    "\n",
    "# Skriv ut totalt belopp att betala\n",
    "print(f\"Totalt belopp att betala: {måltidsKostnad * 1.22:.2f} kr.\")"
   ]
  },
  {
   "cell_type": "markdown",
   "metadata": {},
   "source": [
    "### Uppgift 1b. (3p)\n",
    "Skriv din lösning för uppgift 1b i nedanstående cell."
   ]
  },
  {
   "cell_type": "code",
   "execution_count": 2,
   "metadata": {},
   "outputs": [
    {
     "name": "stdout",
     "output_type": "stream",
     "text": [
      "Då radien är 4.5 cm blir arean 254.34 cm^2 och volymen 381.51 cm^3.\n"
     ]
    }
   ],
   "source": [
    "#1b) Skriv ditt program här. Glöm inte kommentarer.\n",
    "\n",
    "# funktion som tar radien för en sfär och beräknar sfärens area\n",
    "def area_sphere(radie):\n",
    "    area = 4 * 3.14 * radie**2\n",
    "    return area\n",
    "\n",
    "# funktion som tar radien för en sfär och beräknar sfärens volym\n",
    "def vol_sphere(radie):\n",
    "    volume = 4/3 * 3.14 * radie**3\n",
    "    return volume\n",
    "\n",
    "# då radien är 4,5 cm erhålls följande värden på area och volym\n",
    "print(f\"Då radien är 4.5 cm blir arean {area_sphere(4.5):.2f} cm^2 och volymen {vol_sphere(4.5):.2f} cm^3.\")"
   ]
  },
  {
   "cell_type": "markdown",
   "metadata": {},
   "source": [
    "### Uppgift 1c. (4p)\n",
    "Skriv din lösning för uppgift 1c i nedanstående cell."
   ]
  },
  {
   "cell_type": "code",
   "execution_count": 3,
   "metadata": {},
   "outputs": [
    {
     "name": "stdout",
     "output_type": "stream",
     "text": [
      "Ange längden för sida 1:2\n",
      "Ange längden för sida 2:3\n",
      "Ange längden för sida 3:4\n",
      "Det är en oliksidig triangel\n"
     ]
    }
   ],
   "source": [
    "#1c) Skriv ditt program här. Glöm inte kommentarer.\n",
    "\n",
    "# Program för att klassificera trianglar utifrån tre inmatade värden\n",
    "# Vi antar att det är en triangels sidor som matas in, d.v.s ingen verifiering sker.\n",
    "# Läs in värdena för triangelns sidor\n",
    "sida1 = input(\"Ange längden för sida 1:\")\n",
    "sida2 = input(\"Ange längden för sida 2:\")\n",
    "sida3 = input(\"Ange längden för sida 3:\")\n",
    "\n",
    "# Jämför de inmatade sidorna och avgör om det är en liksidig, likbent eller oliksidig triangel\n",
    "if sida1 == sida2 and sida1 == sida3 and sida2 == sida3:\n",
    "    print(\"Det är en liksidig triangel\")\n",
    "elif sida1 != sida2 and sida1 != sida3 and sida2 != sida3:\n",
    "    print(\"Det är en oliksidig triangel\")\n",
    "else:\n",
    "    print(\"Det är en likbent triangel\")"
   ]
  },
  {
   "cell_type": "markdown",
   "metadata": {},
   "source": [
    "## Del 2. Uppgift 2"
   ]
  },
  {
   "cell_type": "markdown",
   "metadata": {},
   "source": [
    "### Uppgift 2a. (4p)\n",
    "Skriv din lösning för uppgift 2a i nedanstående cell."
   ]
  },
  {
   "cell_type": "code",
   "execution_count": 4,
   "metadata": {},
   "outputs": [
    {
     "name": "stdout",
     "output_type": "stream",
     "text": [
      "Skriv in antal rader:2\n",
      "Skriv in antal kolumner:2\n",
      "Skriv in listans 4 element!\n",
      "Skriv in ett tal och tryck enter3\n",
      "Skriv in ett tal och tryck enter4\n",
      "Skriv in ett tal och tryck enter5\n",
      "Skriv in ett tal och tryck enter6\n",
      "Tack!\n",
      "Den skapade listan är [[3, 4], [5, 6]]\n",
      "Summan av elementen i listan är 18\n"
     ]
    }
   ],
   "source": [
    "#2a) Skriv ditt program här. Glöm inte kommentarer.\n",
    "\n",
    "# Mata in antalet rader\n",
    "rader = int(input(\"Skriv in antal rader:\"))\n",
    "\n",
    "# Mata in antalet kolumner\n",
    "kolumner = int(input(\"Skriv in antal kolumner:\"))\n",
    "\n",
    "# skapa en tom lista av listor\n",
    "minLista = [[] for i in range(rader)]\n",
    "\n",
    "# Mata in värdena i listan\n",
    "print(f\"Skriv in listans {rader * kolumner} element!\")\n",
    "for i in range(rader):\n",
    "    for j in range(kolumner):\n",
    "        tal = int(input(\"Skriv in ett tal och tryck enter\"))\n",
    "        minLista[i].append(tal)\n",
    "\n",
    "print(\"Tack!\")\n",
    "print(f\"Den skapade listan är {minLista}\")\n",
    "\n",
    "# Räkna ut summan av elementen och skriv ut den\n",
    "summan = 0\n",
    "for i in range(rader):\n",
    "    for j in range(kolumner):\n",
    "        summan += minLista[i][j]\n",
    "\n",
    "print(f\"Summan av elementen i listan är {summan}\")"
   ]
  },
  {
   "cell_type": "markdown",
   "metadata": {},
   "source": [
    "### Uppgift 2b. (4p)\n",
    "Skriv din lösning för uppgift 2b i nedanstående cell."
   ]
  },
  {
   "cell_type": "code",
   "execution_count": 5,
   "metadata": {},
   "outputs": [
    {
     "name": "stdout",
     "output_type": "stream",
     "text": [
      "Anställdas namn           Lön                Födelseår             Kön\n",
      "---------------------------------------------------------------------------\n",
      "\n",
      "Erik Andersson           55000                65                   Man\n",
      "\n",
      "Kalle Larsson            26000                98                   Man\n",
      "\n",
      "Linda Bergström          46000                87                Kvinna\n",
      "\n",
      "Elsa Eriksson            64000                77                Kvinna\n",
      "\n",
      "Adam Månsson             35000                92                   Man\n",
      "\n"
     ]
    },
    {
     "data": {
      "image/png": "[encoded data removed]",
      "text/plain": [
       "<Figure size 864x432 with 1 Axes>"
      ]
     },
     "metadata": {
      "needs_background": "light"
     },
     "output_type": "display_data"
    }
   ],
   "source": [
    "#2b) Skriv ditt program här. Glöm inte kommentarer.\n",
    "\n",
    "# Dictinary från uppgiftstexten\n",
    "anstallda={'Erik Andersson':[65,55000,'Man'],'Kalle Larsson':[98,26000,'Man'], \n",
    "           'Linda Bergström':[87,46000,'Kvinna'], 'Elsa Eriksson':[77,64000,'Kvinna'], 'Adam Månsson':[92,35000,'Man']}\n",
    "\n",
    "# Hämta nycklar i dictionary\n",
    "keys = list(anstallda.keys())\n",
    "# Hämta värden i dictionary\n",
    "values = list(anstallda.values())\n",
    "\n",
    "# Konstruera tabellen\n",
    "print(f'{\"Anställdas namn\":<25s} {\"Lön\":<18s} {\"Födelseår\":>5s} {\"Kön\":>15s}')\n",
    "print('---------------------------------------------------------------------------\\n')\n",
    "for i in range(len(keys)):\n",
    "    print(f\"{keys[i]:<25s}{str(values[i][1]):<18s}{str(values[i][0]):>5s}{values[i][2]:>22s}\\n\")\n",
    "\n",
    "# Konstruera stapeldiagrammet\n",
    "\n",
    "import matplotlib.pyplot as plt\n",
    "\n",
    "# extrahera lönevärdena\n",
    "loner = []\n",
    "for i in range(len(values)):\n",
    "    loner.append(values[i][1])\n",
    "\n",
    "# diagramstorlek\n",
    "plt.figure(figsize = (12, 6))\n",
    "\n",
    "plt.barh(keys, loner, height=0.4, color = \"red\")\n",
    "plt.title('Diagram över anställdas löner')\n",
    "plt.xlabel('Anställdas lön')\n",
    "plt.ylabel('Anställdas namn')\n",
    "plt.locator_params(axis=\"x\", nbins=7)\n",
    "plt.show()"
   ]
  },
  {
   "cell_type": "markdown",
   "metadata": {},
   "source": [
    "### Uppgift 2c. (3p)\n",
    "Nedanstående funktion tar en lista som argument och returnerar listan sorterad. Tyvärr finns det några fel i funktionen som gör att den inte fungerar korrekt. Din uppgift blir att rätta felen. Skriv en kommentar till varje ändring du gör, okommenterade ändringar ger inga poäng.\n",
    "\n",
    "<i>OBS: Du får inte lägga till eller ta bort rader i koden för att få funktionen att fungera utan enbart hitta felen och korrigera dessa.</i>"
   ]
  },
  {
   "cell_type": "code",
   "execution_count": 6,
   "metadata": {},
   "outputs": [
    {
     "name": "stdout",
     "output_type": "stream",
     "text": [
      "[10, 9, 8, 7, 6, 3, 2, 1]\n"
     ]
    }
   ],
   "source": [
    "#2c) Rätta koden och kommentera rättningen. \n",
    "\n",
    "# för att få den här varianten av bubble sort att fungera har jag ändrat enligt nedan\n",
    "def sort(lista):\n",
    "    for i in range(1,len(lista)):\n",
    "        j = i\n",
    "        while j > 0 and lista[j-1] < lista[j]: # här har jag ändrat två saker: från j < 0 till j > 0 och bytt \"or\" mot \"and\" \n",
    "            lista[j-1], lista[j] = lista[j], lista[j-1] # här bytte man mot fel värde i listan. Ändrade från [j + 1] till [j -1]\n",
    "            j -= 1\n",
    "    return lista\n",
    "Lista = [10,1,3,2,7,9,8,6]\n",
    "sort(Lista)\n",
    "print(Lista)"
   ]
  },
  {
   "cell_type": "markdown",
   "metadata": {},
   "source": [
    "## Del 2. Uppgift 3"
   ]
  },
  {
   "cell_type": "markdown",
   "metadata": {},
   "source": [
    "### Uppgift 3a. (3p)\n",
    "Skriv din lösning för uppgift 3a i nedanstående cell."
   ]
  },
  {
   "cell_type": "code",
   "execution_count": 7,
   "metadata": {},
   "outputs": [
    {
     "name": "stdout",
     "output_type": "stream",
     "text": [
      "['Stock_index', 'Country', 'Open-Close', '2022-02-01', '2022-02-02', '2022-02-03', '2022-02-04', '2022-02-07', '2022-02-08', '2022-02-09', '2022-02-10', '2022-02-11', '2022-02-14', '2022-02-15', '2022-02-16', '2022-02-17', '2022-02-18', '2022-02-21', '2022-02-22', '2022-02-23', '2022-02-24', '2022-02-25'] \n",
      "\n",
      "['Dow Jones', 'United States', 'Open', '1112.69', '1121.22', '1129.19', '1101.05', '1108.42', '1105.04', '1115.02', '1132.81', '1112.88', '1091.43', '1087.12', '1105.83', '1106.19', '1081.44', '1070', '1072.78', '1061.26', '1040.99', '1058.74'] \n",
      "\n",
      "['Dow Jones', 'United States', 'Close', '1121.22', '1129.19', '1101.05', '1108.42', '1105.04', '1115.02', '1132.81', '1112.88', '1091.43', '1087.12', '1105.83', '1106.19', '1081.44', '1072.78', '1060', '1061.26', '1040.99', '1058.74', '1082.69'] \n",
      "\n",
      "['DAX', 'Germany', 'Open', '15620.56', '15689.16', '15565.94', '15410.73', '15220.08', '15221.7', '15356.95', '15597.06', '15353.86', '15065.73', '15077.32', '15431.27', '15404.14', '15278.66', '15186.63', '14365.06', '14754.22', '13989.41', '14230.09'] \n",
      "\n",
      "['DAX', 'Germany', 'Close', '15619.39', '15613.77', '15368.47', '15099.56', '15206.64', '15242.38', '15482.01', '15490.44', '15425.12', '15113.97', '15412.71', '15370.3', '15267.63', '15042.51', '14731.12', '14693', '14631.36', '14052.1', '14567.23'] \n",
      "\n"
     ]
    }
   ],
   "source": [
    "#3a) Skriv ditt program här. Glöm inte kommentarer.\n",
    "\n",
    "import csv          #importera modulen CSV\n",
    "\n",
    "# funktionsdefinition\n",
    "def read_file(file_name):\n",
    "    my_content = []     #skapa tom lista \n",
    "    with open(file_name,'r') as csv_file:        #skapa filobjekt\n",
    "        csv_reader = csv.reader(csv_file, delimiter=';')  #läs in fil med åtskiljnadstecken ';'\n",
    "\n",
    "        for rad in csv_reader:\n",
    "            my_content.append(rad)      #lägg till varje rad från file_name till my_content\n",
    "    return my_content                   #returnera lista\n",
    "\n",
    "#huvudprogram\n",
    "stock_index = read_file('stock_index.csv')\n",
    "for k in range(0, 5):     #skriv ut de fem första raderna ur stock_index\n",
    "    print(stock_index[k], '\\n')"
   ]
  },
  {
   "cell_type": "markdown",
   "metadata": {},
   "source": [
    "### Uppgift 3b. (7p)\n",
    "Skriv din lösning för uppgift 3b i nedanstående cell."
   ]
  },
  {
   "cell_type": "code",
   "execution_count": 16,
   "metadata": {},
   "outputs": [
    {
     "name": "stdout",
     "output_type": "stream",
     "text": [
      "[['Dow Jones', 'United States', 0.77, 0.71, -2.49, 0.67, -0.3, 0.9, 1.6, -1.76, -1.93, -0.39, 1.72, 0.03, -2.24, -0.8, -0.93, -1.07, -1.91, 1.71, 2.26, -2.49, '2022-02-03', 2.26, '2022-02-25'], ['DAX', 'Germany', -0.01, -0.48, -1.27, -2.02, -0.09, 0.14, 0.81, -0.68, 0.46, 0.32, 2.22, -0.4, -0.89, -1.55, -3.0, 2.28, -0.83, 0.45, 2.37, -3.0, '2022-02-21', 2.37, '2022-02-25'], ['OMXS30', 'Sweden', 0.17, -0.14, -1.95, -1.78, 0.38, -0.02, 1.24, -0.28, 0.08, 0.04, 2.02, -1.14, -1.7, -1.25, -2.31, 2.31, -0.97, 1.02, 1.94, -2.31, '2022-02-21', 2.31, '2022-02-22'], ['DJRUSGD', 'Russia', 1.04, -0.64, -1.03, 0.67, 0.48, 2.53, 2.87, 0.32, -4.86, -1.85, 4.32, 1.47, -4.86, -5.58, -11.47, -3.92, -4.39, -39.89, 27.34, -39.89, '2022-02-24', 27.34, '2022-02-25'], ['Nikkei', 'Japan', -0.98, 1.68, -0.74, 1.21, -0.45, -0.38, 0.77, -0.13, -0.97, -0.94, -0.38, 0.15, -1.11, 0.58, 0.66, 0.17, -0.36, -0.46, 0.69, -1.11, '2022-02-17', 1.68, '2022-02-02'], ['FTSE100', 'United Kingdom', 0.96, 0.63, -0.71, -0.17, 0.76, -0.08, 1.01, 0.38, -0.15, -1.69, 1.03, -0.07, -0.87, -0.32, -0.39, 0.13, 0.05, -3.88, 3.91, -3.88, '2022-02-24', 3.91, '2022-02-25']]\n"
     ]
    }
   ],
   "source": [
    "#3b) Skriv ditt program här. Glöm inte kommentarer.\n",
    "\n",
    "def stock_index_analysis(stock_index):\n",
    "    # skapa en tom lista av listor\n",
    "    stock_change = [[] for i in range(6)]\n",
    "    # stock_index innehåller sex länder (hoppa över rubrikraden)\n",
    "    for i in range(0, 6):\n",
    "        # lägg till börsindex och land\n",
    "        stock_change[i].append(stock_index[(i + 1) * 2][0])\n",
    "        stock_change[i].append(stock_index[(i + 1) * 2][1])\n",
    "        # lägg till relativ kursförändring\n",
    "        for j in range(len(stock_index[0]) - 3):\n",
    "            stock_change[i].append(round(((float(stock_index[i * 2 + 2][j+3]) - float(stock_index[i * 2 + 1][j+3])) / float(stock_index[i * 2 + 1][j+3])) * 100 , 2))\n",
    "    # hitta min och max för kursförändringen\n",
    "    for i in range(len(stock_change)):\n",
    "        # sortera dellistan (slice) för varje börsindex\n",
    "        slice = stock_change[i][3:]\n",
    "        slice.sort()\n",
    "        # lägg till minsta värdet och datum i listan\n",
    "        stock_change[i].append(slice[0])\n",
    "        index_min = stock_change[i].index(slice[0])\n",
    "        stock_change[i].append(stock_index[0][index_min + 1])\n",
    "        # lägg till största värdet och datum i listan\n",
    "        stock_change[i].append(slice[len(slice) - 1])\n",
    "        index_max = stock_change[i].index(slice[len(slice) - 1])\n",
    "        stock_change[i].append(stock_index[0][index_max + 1])  \n",
    "    return stock_change\n",
    "        \n",
    "stock_change = stock_index_analysis(stock_index)\n",
    "print(stock_change)"
   ]
  },
  {
   "cell_type": "markdown",
   "metadata": {},
   "source": [
    "### Uppgift 3c. (5p)\n",
    "Skriv din lösning för uppgift 3c i nedanstående cell."
   ]
  },
  {
   "cell_type": "code",
   "execution_count": 43,
   "metadata": {},
   "outputs": [
    {
     "name": "stdout",
     "output_type": "stream",
     "text": [
      "==============================================================================================\n",
      "\n",
      "\n",
      "\n",
      "FÖRÄNDRINGAR I BÖRSINDEX FÖR NÅGRA LÄNDERS BÖRSER\n",
      "\n",
      "UNDER PERIODEN 2022-02-01 -- 2022-02-25\n",
      "\n",
      "                                   Största förändring för en enskild dag [%]\n",
      "\n",
      "                                   ---------------------------------\n",
      "\n",
      "Börsindex       Land                 Minskning    Datum           Ökning                  Datum\n",
      "\n",
      "Dow Jones      United States       -2.49       2022-02-03          2.26              2022-02-25\n",
      "\n",
      "DAX            Germany             -3.0        2022-02-21          2.37              2022-02-25\n",
      "\n",
      "OMXS30         Sweden              -2.31       2022-02-21          2.31              2022-02-22\n",
      "\n",
      "DJRUSGD        Russia              -39.89      2022-02-24          27.34             2022-02-25\n",
      "\n",
      "Nikkei         Japan               -1.11       2022-02-17          1.68              2022-02-02\n",
      "\n",
      "FTSE100        United Kingdom      -3.88       2022-02-24          3.91              2022-02-25\n",
      "\n",
      "==================================================================================================\n"
     ]
    }
   ],
   "source": [
    "#3c) Skriv ditt program här. Glöm inte kommentarer.\n",
    "\n",
    "# här börjar utskriften av tabellen\n",
    "print('==============================================================================================\\n')\n",
    "print('\\n')\n",
    "print('FÖRÄNDRINGAR I BÖRSINDEX FÖR NÅGRA LÄNDERS BÖRSER\\n')\n",
    "print('UNDER PERIODEN 2022-02-01 -- 2022-02-25\\n')\n",
    "print(f'{\"\":<35s}{\"Största förändring för en enskild dag [%]\":<25s}\\n')\n",
    "print(f'{\"\":<35s}---------------------------------\\n')\n",
    "print(f'{\"Börsindex\":<15s} {\"Land\":<20s} {\"Minskning\":<12s} {\"Datum\":<15s} {\"Ökning\":<18s} {\"Datum\":>10s}\\n')\n",
    "# skriv ut\n",
    "for i in range(0, 6):\n",
    "    print(f'{stock_change[i][0]:<15s}{stock_change[i][1]:<20s}{str(stock_change[i][-4]):<12s}{stock_change[i][-3]:<20s}{str(stock_change[i][-2]):<10s}{stock_change[i][-1]:>18s}\\n')\n",
    "\n",
    "print('==================================================================================================')"
   ]
  },
  {
   "cell_type": "markdown",
   "metadata": {},
   "source": [
    "### Uppgift 3d. (5p)\n",
    "Skriv din lösning för uppgift 3d i nedanstående cell."
   ]
  },
  {
   "cell_type": "code",
   "execution_count": 10,
   "metadata": {},
   "outputs": [],
   "source": [
    "#3d) Skriv ditt program här. Glöm inte kommentarer.\n",
    "\n",
    "# Använd listorna stock_index och stock_change och skriv ett program\n",
    "# som skapar ett diagram som innehåller graferna med kursfördringarna per dag\n",
    "# under mätperioden för alla börsindex. Nedan visas hur diagrammet ska se ut (graferna har utelämnats).\n",
    "\n",
    "# innehåller årtalen från befolkning\n",
    "x_koord = []\n",
    "for k in range(len(befolkning[0]) - 1):\n",
    "    x_koord.append(befolkning[0][k + 1])\n",
    "\n",
    "# innehåller färgerna för kurvorna\n",
    "färger = [\"red\", \"blue\", \"green\", \"gold\", \"brown\", \"indigo\", \"cyan\", \"coral\", \"lawngreen\", \"crimson\"]\n",
    "\n",
    "# diagramstorlek\n",
    "plt.figure(figsize = (10, 6))\n",
    "\n",
    "# rita kurvorna\n",
    "for i in range(len(länder)):\n",
    "    plt.plot(x_koord, y_koord[i], color = färger[i], label = länder[i])\n",
    "\n",
    "# normvärdet 100 indikeras med en svart horisontell linje\n",
    "plt.axhline(y = 100, xmin = 0.1, xmax = 0.95, color = 'black')\n",
    "# etiketter, diagramrubrik och axeltitlar\n",
    "plt.legend(loc = 2)\n",
    "plt.grid()\n",
    "plt.title('Befolkningsutveckling inom EU för tidsperioden 2019-2100')\n",
    "plt.xlabel('År')\n",
    "plt.ylabel('Relativ befolkningsutveckling. Indexår 2019.')\n",
    "\n",
    "plt.show()"
   ]
  }
 ],
 "metadata": {
  "kernelspec": {
   "display_name": "Python 3 (ipykernel)",
   "language": "python",
   "name": "python3"
  },
  "language_info": {
   "codemirror_mode": {
    "name": "ipython",
    "version": 3
   },
   "file_extension": ".py",
   "mimetype": "text/x-python",
   "name": "python",
   "nbconvert_exporter": "python",
   "pygments_lexer": "ipython3",
   "version": "3.8.12"
  }
 },
 "nbformat": 4,
 "nbformat_minor": 4
}
