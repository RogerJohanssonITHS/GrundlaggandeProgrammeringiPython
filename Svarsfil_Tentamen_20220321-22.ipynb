{
 "cells": [
  {
   "cell_type": "markdown",
   "metadata": {},
   "source": [
    "## Här lämnar du dina svar till Del 2 Uppgift 1-3."
   ]
  },
  {
   "cell_type": "markdown",
   "metadata": {},
   "source": [
    "## Del 2. Uppgift 1"
   ]
  },
  {
   "cell_type": "markdown",
   "metadata": {},
   "source": [
    "### Uppgift 1a. (2p)\n",
    "Skriv din lösning för uppgift 1a i nedanstående cell."
   ]
  },
  {
   "cell_type": "code",
   "execution_count": null,
   "metadata": {},
   "outputs": [],
   "source": [
    "#1a) Skriv ditt program här. Glöm inte kommentarer.\n",
    "\n",
    "# Läs in kostnaden för måltiden\n",
    "måltidsKostnad = float(input(\"Ange kostnaden för måltiden i kronor:\"))\n",
    "\n",
    "# Skriv ut momsen\n",
    "print(f\"Moms är {måltidsKostnad * 0.12:.2f} kr.\")\n",
    "\n",
    "# Skriv ut dricksen\n",
    "print(f\"Dricksen är {måltidsKostnad * 0.10:.2f} kr.\")\n",
    "\n",
    "# Skriv ut totalt belopp att betala\n",
    "print(f\"Totalt belopp att betala: {måltidsKostnad * 1.22:.2f} kr.\")"
   ]
  },
  {
   "cell_type": "markdown",
   "metadata": {},
   "source": [
    "### Uppgift 1b. (3p)\n",
    "Skriv din lösning för uppgift 1b i nedanstående cell."
   ]
  },
  {
   "cell_type": "code",
   "execution_count": null,
   "metadata": {},
   "outputs": [],
   "source": [
    "#1b) Skriv ditt program här. Glöm inte kommentarer.\n",
    "\n",
    "# funktion som tar radien för en sfär och beräknar sfärens area\n",
    "def area_sphere(radie):\n",
    "    area = 4 * 3.14 * radie**2\n",
    "    return area\n",
    "\n",
    "# funktion som tar radien för en sfär och beräknar sfärens volym\n",
    "def vol_sphere(radie):\n",
    "    volume = 4/3 * 3.14 * radie**3\n",
    "    return volume\n",
    "\n",
    "# då radien är 4,5 cm erhålls följande värden på area och volym\n",
    "print(f\"Då radien är 4.5 cm blir arean {area_sphere(4.5):.2f} cm^2 och volymen {vol_sphere(4.5):.2f} cm^3.\")"
   ]
  },
  {
   "cell_type": "markdown",
   "metadata": {},
   "source": [
    "### Uppgift 1c. (4p)\n",
    "Skriv din lösning för uppgift 1c i nedanstående cell."
   ]
  },
  {
   "cell_type": "code",
   "execution_count": null,
   "metadata": {},
   "outputs": [],
   "source": [
    "#1c) Skriv ditt program här. Glöm inte kommentarer.\n",
    "\n",
    "# Program för att klassificera trianglar utifrån tre inmatade värden\n",
    "# Vi antar att det är en triangels sidor som matas in, d.v.s ingen verifiering sker.\n",
    "# Läs in värdena för triangelns sidor\n",
    "sida1 = input(\"Ange längden för sida 1:\")\n",
    "sida2 = input(\"Ange längden för sida 2:\")\n",
    "sida3 = input(\"Ange längden för sida 3:\")\n",
    "\n",
    "# Jämför de inmatade sidorna och avgör om det är en liksidig, likbent eller oliksidig triangel\n",
    "if sida1 == sida2 and sida1 == sida3 and sida2 == sida3:\n",
    "    print(\"Det är en liksidig triangel\")\n",
    "elif sida1 != sida2 and sida1 != sida3 and sida2 != sida3:\n",
    "    print(\"Det är en oliksidig triangel\")\n",
    "else:\n",
    "    print(\"Det är en likbent triangel\")"
   ]
  },
  {
   "cell_type": "markdown",
   "metadata": {},
   "source": [
    "## Del 2. Uppgift 2"
   ]
  },
  {
   "cell_type": "markdown",
   "metadata": {},
   "source": [
    "### Uppgift 2a. (4p)\n",
    "Skriv din lösning för uppgift 2a i nedanstående cell."
   ]
  },
  {
   "cell_type": "code",
   "execution_count": null,
   "metadata": {},
   "outputs": [],
   "source": [
    "#2a) Skriv ditt program här. Glöm inte kommentarer.\n",
    "\n",
    "# Mata in antalet rader\n",
    "rader = int(input(\"Skriv in antal rader:\"))\n",
    "\n",
    "# Mata in antalet kolumner\n",
    "kolumner = int(input(\"Skriv in antal kolumner:\"))\n",
    "\n",
    "# skapa en tom lista av listor\n",
    "minLista = [[] for i in range(rader)]\n",
    "\n",
    "# Mata in värdena i listan\n",
    "print(f\"Skriv in listans {rader * kolumner} element!\")\n",
    "for i in range(rader):\n",
    "    for j in range(kolumner):\n",
    "        tal = int(input(\"Skriv in ett tal och tryck enter\"))\n",
    "        minLista[i].append(tal)\n",
    "\n",
    "print(\"Tack!\")\n",
    "print(f\"Den skapade listan är {minLista}\")\n",
    "\n",
    "# Räkna ut summan av elementen och skriv ut den\n",
    "summan = 0\n",
    "for i in range(rader):\n",
    "    for j in range(kolumner):\n",
    "        summan += minLista[i][j]\n",
    "\n",
    "print(f\"Summan av elementen i listan är {summan}\")"
   ]
  },
  {
   "cell_type": "markdown",
   "metadata": {},
   "source": [
    "### Uppgift 2b. (4p)\n",
    "Skriv din lösning för uppgift 2b i nedanstående cell."
   ]
  },
  {
   "cell_type": "code",
   "execution_count": null,
   "metadata": {},
   "outputs": [],
   "source": [
    "#2b) Skriv ditt program här. Glöm inte kommentarer.\n",
    "\n",
    "# Dictinary från uppgiftstexten\n",
    "anstallda={'Erik Andersson':[65,55000,'Man'],'Kalle Larsson':[98,26000,'Man'], \n",
    "           'Linda Bergström':[87,46000,'Kvinna'], 'Elsa Eriksson':[77,64000,'Kvinna'], 'Adam Månsson':[92,35000,'Man']}\n",
    "\n",
    "# Hämta nycklar i dictionary\n",
    "keys = list(anstallda.keys())\n",
    "# Hämta värden i dictionary\n",
    "values = list(anstallda.values())\n",
    "\n",
    "# Konstruera tabellen\n",
    "print(f'{\"Anställdas namn\":<25s} {\"Lön\":<18s} {\"Födelseår\":>5s} {\"Kön\":>15s}')\n",
    "print('---------------------------------------------------------------------------\\n')\n",
    "for i in range(len(keys)):\n",
    "    print(f\"{keys[i]:<25s}{str(values[i][1]):<18s}{str(values[i][0]):>5s}{values[i][2]:>22s}\\n\")\n",
    "\n",
    "# Konstruera stapeldiagrammet\n",
    "\n",
    "import matplotlib.pyplot as plt\n",
    "\n",
    "# extrahera lönevärdena\n",
    "loner = []\n",
    "for i in range(len(values)):\n",
    "    loner.append(values[i][1])\n",
    "\n",
    "# diagramstorlek\n",
    "plt.figure(figsize = (12, 6))\n",
    "\n",
    "plt.barh(keys, loner, height=0.4, color = \"red\")\n",
    "plt.title('Diagram över anställdas löner')\n",
    "plt.xlabel('Anställdas lön')\n",
    "plt.ylabel('Anställdas namn')\n",
    "plt.locator_params(axis=\"x\", nbins=7)\n",
    "plt.show()"
   ]
  },
  {
   "cell_type": "markdown",
   "metadata": {},
   "source": [
    "### Uppgift 2c. (3p)\n",
    "Nedanstående funktion tar en lista som argument och returnerar listan sorterad. Tyvärr finns det några fel i funktionen som gör att den inte fungerar korrekt. Din uppgift blir att rätta felen. Skriv en kommentar till varje ändring du gör, okommenterade ändringar ger inga poäng.\n",
    "\n",
    "<i>OBS: Du får inte lägga till eller ta bort rader i koden för att få funktionen att fungera utan enbart hitta felen och korrigera dessa.</i>"
   ]
  },
  {
   "cell_type": "code",
   "execution_count": null,
   "metadata": {},
   "outputs": [],
   "source": [
    "#2c) Rätta koden och kommentera rättningen. \n",
    "\n",
    "# för att få den här varianten av bubble sort att fungera har jag ändrat enligt nedan\n",
    "def sort(lista):\n",
    "    for i in range(1,len(lista)):\n",
    "        j = i\n",
    "        while j > 0 and lista[j-1] < lista[j]: # här har jag ändrat två saker: från j < 0 till j > 0 och bytt \"or\" mot \"and\" \n",
    "            lista[j-1], lista[j] = lista[j], lista[j-1] # här bytte man mot fel värde i listan. Ändrade från [j + 1] till [j -1]\n",
    "            j -= 1\n",
    "    return lista\n",
    "Lista = [10,1,3,2,7,9,8,6]\n",
    "sort(Lista)\n",
    "print(Lista)"
   ]
  },
  {
   "cell_type": "markdown",
   "metadata": {},
   "source": [
    "## Del 2. Uppgift 3"
   ]
  },
  {
   "cell_type": "markdown",
   "metadata": {},
   "source": [
    "### Uppgift 3a. (3p)\n",
    "Skriv din lösning för uppgift 3a i nedanstående cell."
   ]
  },
  {
   "cell_type": "code",
   "execution_count": null,
   "metadata": {},
   "outputs": [],
   "source": [
    "#3a) Skriv ditt program här. Glöm inte kommentarer.\n",
    "\n",
    "import csv          #importera modulen CSV\n",
    "\n",
    "# funktionsdefinition\n",
    "def read_file(file_name):\n",
    "    my_content = []     #skapa tom lista \n",
    "    with open(file_name,'r') as csv_file:        #skapa filobjekt\n",
    "        csv_reader = csv.reader(csv_file, delimiter=';')  #läs in fil med åtskiljnadstecken ';'\n",
    "\n",
    "        for rad in csv_reader:\n",
    "            my_content.append(rad)      #lägg till varje rad från file_name till my_content\n",
    "    return my_content                   #returnera lista\n",
    "\n",
    "# huvudprogram\n",
    "stock_index = read_file('stock_index.csv')\n",
    "for k in range(0, 5):     #skriv ut de fem första raderna ur stock_index\n",
    "    print(stock_index[k], '\\n')"
   ]
  },
  {
   "cell_type": "markdown",
   "metadata": {},
   "source": [
    "### Uppgift 3b. (7p)\n",
    "Skriv din lösning för uppgift 3b i nedanstående cell."
   ]
  },
  {
   "cell_type": "code",
   "execution_count": null,
   "metadata": {},
   "outputs": [],
   "source": [
    "#3b) Skriv ditt program här. Glöm inte kommentarer.\n",
    "\n",
    "def stock_index_analysis(stock_index):\n",
    "    # skapa en tom lista av listor\n",
    "    stock_change = [[] for i in range(6)]\n",
    "    # stock_index innehåller sex länder (hoppa över rubrikraden)\n",
    "    for i in range(0, 6):\n",
    "        # lägg till börsindex och land\n",
    "        stock_change[i].append(stock_index[(i + 1) * 2][0])\n",
    "        stock_change[i].append(stock_index[(i + 1) * 2][1])\n",
    "        # lägg till relativ kursförändring\n",
    "        for j in range(len(stock_index[0]) - 3):\n",
    "            stock_change[i].append(round(((float(stock_index[i * 2 + 2][j+3]) - float(stock_index[i * 2 + 1][j+3])) / float(stock_index[i * 2 + 1][j+3])) * 100 , 2))\n",
    "    # hitta min och max för kursförändringen\n",
    "    for i in range(len(stock_change)):\n",
    "        # sortera dellistan (slice) för varje börsindex\n",
    "        slice = stock_change[i][3:]\n",
    "        slice.sort()\n",
    "        # lägg till minsta värdet och datum i listan\n",
    "        stock_change[i].append(slice[0])\n",
    "        index_min = stock_change[i].index(slice[0])\n",
    "        stock_change[i].append(stock_index[0][index_min + 1])\n",
    "        # lägg till största värdet och datum i listan\n",
    "        stock_change[i].append(slice[len(slice) - 1])\n",
    "        index_max = stock_change[i].index(slice[len(slice) - 1])\n",
    "        stock_change[i].append(stock_index[0][index_max + 1])  \n",
    "    return stock_change\n",
    "\n",
    "# huvudprogram\n",
    "stock_change = stock_index_analysis(stock_index)"
   ]
  },
  {
   "cell_type": "markdown",
   "metadata": {},
   "source": [
    "### Uppgift 3c. (5p)\n",
    "Skriv din lösning för uppgift 3c i nedanstående cell."
   ]
  },
  {
   "cell_type": "code",
   "execution_count": null,
   "metadata": {},
   "outputs": [],
   "source": [
    "#3c) Skriv ditt program här. Glöm inte kommentarer.\n",
    "\n",
    "# här börjar utskriften av tabellen\n",
    "print('==============================================================================================\\n')\n",
    "print('\\n')\n",
    "print('FÖRÄNDRINGAR I BÖRSINDEX FÖR NÅGRA LÄNDERS BÖRSER\\n')\n",
    "print('UNDER PERIODEN 2022-02-01 -- 2022-02-25\\n')\n",
    "print(f'{\"\":<35s}{\"Största förändring för en enskild dag [%]\":<25s}\\n')\n",
    "print(f'{\"\":<35s}---------------------------------\\n')\n",
    "print(f'{\"Börsindex\":<15s} {\"Land\":<20s} {\"Minskning\":<12s} {\"Datum\":<15s} {\"Ökning\":<18s} {\"Datum\":>10s}\\n')\n",
    "# skriv ut datan från stock_change\n",
    "for i in range(0, 6):\n",
    "    print(f'{stock_change[i][0]:<15s}{stock_change[i][1]:<20s}{str(stock_change[i][-4]):<12s}{stock_change[i][-3]:<20s}{str(stock_change[i][-2]):<10s}{stock_change[i][-1]:>18s}\\n')\n",
    "\n",
    "print('==================================================================================================')"
   ]
  },
  {
   "cell_type": "markdown",
   "metadata": {},
   "source": [
    "### Uppgift 3d. (5p)\n",
    "Skriv din lösning för uppgift 3d i nedanstående cell."
   ]
  },
  {
   "cell_type": "code",
   "execution_count": null,
   "metadata": {},
   "outputs": [],
   "source": [
    "#3d) Skriv ditt program här. Glöm inte kommentarer.\n",
    "\n",
    "# skapa x-koordinaterna som innehåller datum\n",
    "x_koord = []\n",
    "for k in range(len(stock_index[0]) - 3):\n",
    "    x_koord.append(stock_index[0][k + 3])\n",
    "\n",
    "# skapa y-koordinaterna som innehåller förändringen per datum och börsindex\n",
    "y_koord = [[] for i in range(6)]\n",
    "for i in range(6):\n",
    "    for j in range(len(stock_change[0]) - 6):\n",
    "        y_koord[i].append(stock_change[i][j + 2])\n",
    "                   \n",
    "# skapa labels för grafen\n",
    "labels = []\n",
    "for i in range(len(stock_change)):\n",
    "    labels.append(stock_change[i][0])\n",
    "                   \n",
    "# innehåller färgerna för kurvorna\n",
    "färger = [\"red\", \"blue\", \"green\", \"gold\", \"brown\", \"indigo\"]\n",
    "\n",
    "# diagramstorlek\n",
    "plt.figure(figsize = (20, 10))\n",
    "\n",
    "# rita kurvorna\n",
    "for i in range(len(y_koord)):\n",
    "    plt.plot(x_koord, y_koord[i], color = färger[i], label = labels[i])\n",
    "\n",
    "# labels, diagramrubrik och axeltitlar\n",
    "plt.legend(loc = 2)\n",
    "plt.grid()\n",
    "plt.title('Förändringar i börsindex under perioden 2022-02-01 -- 2022-02-25')\n",
    "plt.xlabel('Datum')\n",
    "plt.ylabel('Förändring[%]')\n",
    "plt.xticks(rotation=90)\n",
    "\n",
    "plt.show()"
   ]
  },
  {
   "cell_type": "code",
   "execution_count": null,
   "metadata": {},
   "outputs": [],
   "source": []
  }
 ],
 "metadata": {
  "kernelspec": {
   "display_name": "Python 3 (ipykernel)",
   "language": "python",
   "name": "python3"
  },
  "language_info": {
   "codemirror_mode": {
    "name": "ipython",
    "version": 3
   },
   "file_extension": ".py",
   "mimetype": "text/x-python",
   "name": "python",
   "nbconvert_exporter": "python",
   "pygments_lexer": "ipython3",
   "version": "3.8.12"
  }
 },
 "nbformat": 4,
 "nbformat_minor": 4
}
